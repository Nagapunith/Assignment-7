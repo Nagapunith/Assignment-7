{
  "nbformat": 4,
  "nbformat_minor": 0,
  "metadata": {
    "colab": {
      "name": "Assignment 6",
      "provenance": []
    },
    "kernelspec": {
      "name": "python3",
      "display_name": "Python 3"
    }
  },
  "cells": [
    {
      "cell_type": "code",
      "metadata": {
        "id": "3lMuC5FkzxE5",
        "colab_type": "code",
        "colab": {
          "base_uri": "https://localhost:8080/",
          "height": 50
        },
        "outputId": "0e19a12e-1e8a-48a6-f229-dc52a2143b8e"
      },
      "source": [
        "number = int(input(\"Please Enter any Number: \"))\n",
        "total = 0\n",
        "\n",
        "for value in range(1, number + 1):\n",
        "    total = total + value\n",
        "\n",
        "print(\"The Sum of Natural Numbers from 1 to {0} =  {1}\".format(number, total))"
      ],
      "execution_count": 1,
      "outputs": [
        {
          "output_type": "stream",
          "text": [
            "Please Enter any Number: 16\n",
            "The Sum of Natural Numbers from 1 to 16 =  136\n"
          ],
          "name": "stdout"
        }
      ]
    },
    {
      "cell_type": "code",
      "metadata": {
        "id": "jmHFUgx_0LrO",
        "colab_type": "code",
        "colab": {
          "base_uri": "https://localhost:8080/",
          "height": 50
        },
        "outputId": "107a0ed1-5bba-4d6d-a861-7386c15a8dc1"
      },
      "source": [
        "numbers = (1, 2, 3, 4, 5, 6, 7, 8, 9, 10) \n",
        "count_odd = 0\n",
        "count_even = 0\n",
        "for x in numbers:\n",
        "        if not x % 2:\n",
        "    \t     count_even+=1\n",
        "        else:\n",
        "    \t     count_odd+=1\n",
        "print(\"Number of even numbers :\",count_even)\n",
        "print(\"Number of odd numbers :\",count_odd)"
      ],
      "execution_count": 2,
      "outputs": [
        {
          "output_type": "stream",
          "text": [
            "Number of even numbers : 5\n",
            "Number of odd numbers : 5\n"
          ],
          "name": "stdout"
        }
      ]
    },
    {
      "cell_type": "code",
      "metadata": {
        "id": "iHXcIsE70vvm",
        "colab_type": "code",
        "colab": {
          "base_uri": "https://localhost:8080/",
          "height": 50
        },
        "outputId": "df63c0cb-5777-4ffb-f397-71cefd3ba237"
      },
      "source": [
        "for x in range(6):\n",
        "    if (x == 3 or x==6):\n",
        "        continue\n",
        "    print(x,end=' ')\n",
        "print(\"\\n\")"
      ],
      "execution_count": 3,
      "outputs": [
        {
          "output_type": "stream",
          "text": [
            "0 1 2 4 5 \n",
            "\n"
          ],
          "name": "stdout"
        }
      ]
    },
    {
      "cell_type": "code",
      "metadata": {
        "id": "_pKHZ97P2GJT",
        "colab_type": "code",
        "colab": {
          "base_uri": "https://localhost:8080/",
          "height": 50
        },
        "outputId": "e1accb43-53da-432e-cfee-b6cc736aaf40"
      },
      "source": [
        "numbers = []\n",
        "squares = []\n",
        "start = 1 \n",
        "end = 10 \n",
        "for count in range (start, end+1) :\n",
        "    numbers.append (count)\n",
        "    squares.append (count**2)\n",
        "print(\"numbers: \",numbers)\n",
        "print(\"squares: \",squares)"
      ],
      "execution_count": 5,
      "outputs": [
        {
          "output_type": "stream",
          "text": [
            "numbers:  [1, 2, 3, 4, 5, 6, 7, 8, 9, 10]\n",
            "squares:  [1, 4, 9, 16, 25, 36, 49, 64, 81, 100]\n"
          ],
          "name": "stdout"
        }
      ]
    },
    {
      "cell_type": "code",
      "metadata": {
        "id": "gMNnnZT43mne",
        "colab_type": "code",
        "colab": {
          "base_uri": "https://localhost:8080/",
          "height": 34
        },
        "outputId": "7bf9271f-096c-4eee-b99b-ac205b6cf104"
      },
      "source": [
        "n = 10\n",
        "sum = 0\n",
        "for num in range(0, n+1, 1):\n",
        "    sum = sum+num\n",
        "print(\"SUM of first \", n, \"numbers is: \", sum )"
      ],
      "execution_count": 6,
      "outputs": [
        {
          "output_type": "stream",
          "text": [
            "SUM of first  10 numbers is:  55\n"
          ],
          "name": "stdout"
        }
      ]
    },
    {
      "cell_type": "code",
      "metadata": {
        "id": "UKz-qhr04MUV",
        "colab_type": "code",
        "colab": {
          "base_uri": "https://localhost:8080/",
          "height": 50
        },
        "outputId": "56e5f2f6-ab13-447c-b8e9-27e9b49e847c"
      },
      "source": [
        "number = int(input(\"Enter the number to reverse: \"))\n",
        "reverse = 0\n",
        "while number > 0:\n",
        "    dig = number % 10\n",
        "    reverse = reverse * 10 + dig\n",
        "    number //= 10\n",
        "print(\"The Reverse of the number:\", reverse)"
      ],
      "execution_count": 9,
      "outputs": [
        {
          "output_type": "stream",
          "text": [
            "Enter the number to reverse: 29\n",
            "The Reverse of the number: 92\n"
          ],
          "name": "stdout"
        }
      ]
    },
    {
      "cell_type": "code",
      "metadata": {
        "id": "0chFuQ5-4tuA",
        "colab_type": "code",
        "colab": {
          "base_uri": "https://localhost:8080/",
          "height": 403
        },
        "outputId": "bd757ff9-8595-40a4-b203-eb4705f64a0d"
      },
      "source": [
        "lower=int(input(\"Enter the lower limit for the range:\"))\n",
        "upper=int(input(\"Enter the upper limit for the range:\"))\n",
        "for i in range(lower,upper+1):\n",
        "    if(i%2!=0):\n",
        "        print(i)"
      ],
      "execution_count": 10,
      "outputs": [
        {
          "output_type": "stream",
          "text": [
            "Enter the lower limit for the range:5\n",
            "Enter the upper limit for the range:45\n",
            "5\n",
            "7\n",
            "9\n",
            "11\n",
            "13\n",
            "15\n",
            "17\n",
            "19\n",
            "21\n",
            "23\n",
            "25\n",
            "27\n",
            "29\n",
            "31\n",
            "33\n",
            "35\n",
            "37\n",
            "39\n",
            "41\n",
            "43\n",
            "45\n"
          ],
          "name": "stdout"
        }
      ]
    },
    {
      "cell_type": "code",
      "metadata": {
        "id": "ZAt-Wbh_5qbo",
        "colab_type": "code",
        "colab": {
          "base_uri": "https://localhost:8080/",
          "height": 67
        },
        "outputId": "e4c35a22-9278-4f26-9933-5329640b1d64"
      },
      "source": [
        "num = int(input(\"Enter a number \\n\"))\n",
        "count = 0\n",
        "while num>0:\n",
        "    count +=1\n",
        "    num = num//10;\n",
        "    \n",
        "print(\"Number of Digits: %d\"%count)"
      ],
      "execution_count": 12,
      "outputs": [
        {
          "output_type": "stream",
          "text": [
            "Enter a number \n",
            "8652\n",
            "Number of Digits: 4\n"
          ],
          "name": "stdout"
        }
      ]
    },
    {
      "cell_type": "code",
      "metadata": {
        "id": "kZ5fPHJV6O0L",
        "colab_type": "code",
        "colab": {
          "base_uri": "https://localhost:8080/",
          "height": 50
        },
        "outputId": "d5be9f42-243f-4bf3-d295-c1bd9c771ffc"
      },
      "source": [
        "num=int(input(\"Enter a number:\"))\n",
        "temp=num\n",
        "rev=0\n",
        "while(num>0):\n",
        "    dig=num%10\n",
        "    rev=rev*10+dig\n",
        "    num=num//10\n",
        "if(temp==rev):\n",
        "    print(\"The number is palindrome!\")\n",
        "else:\n",
        "    print(\"Not a palindrome!\")"
      ],
      "execution_count": 13,
      "outputs": [
        {
          "output_type": "stream",
          "text": [
            "Enter a number:125521\n",
            "The number is palindrome!\n"
          ],
          "name": "stdout"
        }
      ]
    },
    {
      "cell_type": "code",
      "metadata": {
        "id": "Afs6YjGk7C1F",
        "colab_type": "code",
        "colab": {
          "base_uri": "https://localhost:8080/",
          "height": 84
        },
        "outputId": "503bca99-f070-49e1-9911-46b0b11aef63"
      },
      "source": [
        "n=int(input(\"Enter a number: \"))\n",
        "for i in range(0,n):\n",
        "    for j in range(0,n):\n",
        "        if(i==j):\n",
        "            print(\"1\",sep=\" \",end=\" \")\n",
        "        else:\n",
        "            print(\"0\",sep=\" \",end=\" \")\n",
        "    print()"
      ],
      "execution_count": 16,
      "outputs": [
        {
          "output_type": "stream",
          "text": [
            "Enter a number: 3\n",
            "1 0 0 \n",
            "0 1 0 \n",
            "0 0 1 \n"
          ],
          "name": "stdout"
        }
      ]
    },
    {
      "cell_type": "code",
      "metadata": {
        "id": "4bTwxJQV7hm7",
        "colab_type": "code",
        "colab": {
          "base_uri": "https://localhost:8080/",
          "height": 34
        },
        "outputId": "a8bfcded-3d2e-4ebe-e044-6cd13270fea7"
      },
      "source": [
        "def perfect_number(n):\n",
        "    sum = 0\n",
        "    for x in range(1, n):\n",
        "        if n % x == 0:\n",
        "            sum += x\n",
        "    return sum == n\n",
        "print(perfect_number(6))"
      ],
      "execution_count": 17,
      "outputs": [
        {
          "output_type": "stream",
          "text": [
            "True\n"
          ],
          "name": "stdout"
        }
      ]
    },
    {
      "cell_type": "code",
      "metadata": {
        "id": "nIcV70V88KL_",
        "colab_type": "code",
        "colab": {}
      },
      "source": [
        ""
      ],
      "execution_count": null,
      "outputs": []
    }
  ]
}